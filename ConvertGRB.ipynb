{
 "cells": [
  {
   "cell_type": "code",
   "execution_count": 38,
   "metadata": {
    "collapsed": true
   },
   "outputs": [],
   "source": [
    "import csv\n",
    "import os\n",
    "import pygrib\n",
    "import numpy as np"
   ]
  },
  {
   "cell_type": "code",
   "execution_count": 43,
   "metadata": {
    "collapsed": false
   },
   "outputs": [],
   "source": [
    "# path = '/media/liuyulin101/YulinLiu/WindData'\n",
    "path = os.getcwd()\n",
    "datasrc = path + '/DATA/filtered_weather_data/namanl/'\n",
    "AllFileName = os.listdir(datasrc)"
   ]
  },
  {
   "cell_type": "code",
   "execution_count": 81,
   "metadata": {
    "collapsed": false
   },
   "outputs": [],
   "source": [
    "def ReadGRB(fname):\n",
    "    grbs = pygrib.open(fname)\n",
    "    wind = grbs.select(shortName = ['u','v'], typeOfLevel='isobaricInhPa', level = lambda l: l>150 and l <=1000)\n",
    "#     uin = grbs.select(shortName='u', typeOfLevel='isobaricInhPa')\n",
    "#     vin = grbs.select(shortName='v', typeOfLevel='isobaricInhPa')\n",
    "    grbs.close()\n",
    "    return wind"
   ]
  },
  {
   "cell_type": "code",
   "execution_count": 75,
   "metadata": {
    "collapsed": true
   },
   "outputs": [],
   "source": [
    "def grb_to_grid(grb_obj):\n",
    "    \"\"\"Takes a single grb object containing multiple\n",
    "    levels. Assumes same time, pressure levels. Compiles to a cube\"\"\"\n",
    "    n_levels = len(grb_obj)\n",
    "    levels = np.array([grb_element['level'] for grb_element in grb_obj])\n",
    "    indexes = np.argsort(levels)[::-1] # highest pressure first\n",
    "    cube = np.zeros([n_levels, grb_obj[0].values.shape[0], grb_obj[1].values.shape[1]])\n",
    "    for i in range(n_levels):\n",
    "        cube[i,:,:] = grb_obj[indexes[i]].values\n",
    "    cube_dict = {'data' : cube, 'units' : grb_obj[0]['units'],\n",
    "                 'levels' : levels[indexes]}\n",
    "    return cube_dict"
   ]
  },
  {
   "cell_type": "code",
   "execution_count": 96,
   "metadata": {
    "collapsed": false
   },
   "outputs": [],
   "source": [
    "myfile = pygrib.open(datasrc + AllFileName[10])\n",
    "wind = myfile.select(shortName = 'u', typeOfLevel='isobaricInhPa', level = lambda l: l>150 and l <=1000)\n",
    "myfile.close()"
   ]
  },
  {
   "cell_type": "code",
   "execution_count": 109,
   "metadata": {
    "collapsed": false
   },
   "outputs": [],
   "source": [
    "lats, lons = wind[0].latlons()"
   ]
  },
  {
   "cell_type": "code",
   "execution_count": 111,
   "metadata": {
    "collapsed": false
   },
   "outputs": [
    {
     "data": {
      "text/plain": [
       "array([[ 12.19      ,  12.21992526,  12.2497741 , ...,  14.38059809,\n",
       "         14.3571172 ,  14.33355369],\n",
       "       [ 12.29279317,  12.32275323,  12.35263677, ...,  14.48590525,\n",
       "         14.46239779,  14.43880759],\n",
       "       [ 12.39561914,  12.42561397,  12.45553218, ...,  14.59124271,\n",
       "         14.56770869,  14.54409185],\n",
       "       ..., \n",
       "       [ 54.41570415,  54.45454146,  54.49326792, ...,  57.22745468,\n",
       "         57.19765424,  57.16774151],\n",
       "       [ 54.50134592,  54.54018635,  54.57891591, ...,  57.31322725,\n",
       "         57.28342647,  57.25351336],\n",
       "       [ 54.58688227,  54.62572575,  54.6644583 , ...,  57.39888823,\n",
       "         57.36908718,  57.33917377]])"
      ]
     },
     "execution_count": 111,
     "metadata": {},
     "output_type": "execute_result"
    }
   ],
   "source": [
    "lats"
   ]
  },
  {
   "cell_type": "code",
   "execution_count": 107,
   "metadata": {
    "collapsed": false
   },
   "outputs": [
    {
     "data": {
      "text/plain": [
       "array([[ 23.10819435,  22.98319435,  22.98319435, ...,  19.98319435,\n",
       "         20.10819435,  20.10819435],\n",
       "       [ 23.10819435,  22.98319435,  22.98319435, ...,  19.98319435,\n",
       "         19.98319435,  20.10819435],\n",
       "       [ 23.23319435,  23.10819435,  22.98319435, ...,  19.85819435,\n",
       "         19.85819435,  19.98319435],\n",
       "       ..., \n",
       "       [  8.73319435,   8.60819435,   8.60819435, ...,   1.23319435,\n",
       "          1.23319435,   1.23319435],\n",
       "       [  8.60819435,   8.60819435,   8.60819435, ...,   0.98319435,\n",
       "          0.98319435,   0.98319435],\n",
       "       [  8.60819435,   8.60819435,   8.60819435, ...,   0.85819435,\n",
       "          0.85819435,   0.85819435]])"
      ]
     },
     "execution_count": 107,
     "metadata": {},
     "output_type": "execute_result"
    }
   ],
   "source": [
    "wind[0].values"
   ]
  },
  {
   "cell_type": "code",
   "execution_count": 103,
   "metadata": {
    "collapsed": false
   },
   "outputs": [
    {
     "data": {
      "text/plain": [
       "(array([[ 23.10819435,  22.98319435,  22.98319435, ...,  19.98319435,\n",
       "          20.10819435,  20.10819435],\n",
       "        [ 23.10819435,  22.98319435,  22.98319435, ...,  19.98319435,\n",
       "          19.98319435,  20.10819435],\n",
       "        [ 23.23319435,  23.10819435,  22.98319435, ...,  19.85819435,\n",
       "          19.85819435,  19.98319435],\n",
       "        ..., \n",
       "        [  8.73319435,   8.60819435,   8.60819435, ...,   1.23319435,\n",
       "           1.23319435,   1.23319435],\n",
       "        [  8.60819435,   8.60819435,   8.60819435, ...,   0.98319435,\n",
       "           0.98319435,   0.98319435],\n",
       "        [  8.60819435,   8.60819435,   8.60819435, ...,   0.85819435,\n",
       "           0.85819435,   0.85819435]]),\n",
       " array([[ 12.19      ,  12.21992526,  12.2497741 , ...,  14.38059809,\n",
       "          14.3571172 ,  14.33355369],\n",
       "        [ 12.29279317,  12.32275323,  12.35263677, ...,  14.48590525,\n",
       "          14.46239779,  14.43880759],\n",
       "        [ 12.39561914,  12.42561397,  12.45553218, ...,  14.59124271,\n",
       "          14.56770869,  14.54409185],\n",
       "        ..., \n",
       "        [ 54.41570415,  54.45454146,  54.49326792, ...,  57.22745468,\n",
       "          57.19765424,  57.16774151],\n",
       "        [ 54.50134592,  54.54018635,  54.57891591, ...,  57.31322725,\n",
       "          57.28342647,  57.25351336],\n",
       "        [ 54.58688227,  54.62572575,  54.6644583 , ...,  57.39888823,\n",
       "          57.36908718,  57.33917377]]),\n",
       " array([[-133.459     , -133.35382879, -133.24861012, ...,  -65.30358218,\n",
       "          -65.19490391,  -65.08626455],\n",
       "        [-133.4896784 , -133.38443247, -133.27913898, ...,  -65.27936503,\n",
       "          -65.17060391,  -65.06188181],\n",
       "        [-133.52040446, -133.41508372, -133.3097153 , ...,  -65.25510899,\n",
       "          -65.14626491,  -65.03745993],\n",
       "        ..., \n",
       "        [-152.76156362, -152.61422451, -152.46674032, ...,  -49.77230343,\n",
       "          -49.61380974,  -49.45544487],\n",
       "        [-152.82847374, -152.68100732, -152.53339539, ...,  -49.71728991,\n",
       "          -49.55863314,  -49.40010561],\n",
       "        [-152.8955295 , -152.74793564, -152.60019583, ...,  -49.66214743,\n",
       "          -49.5033273 ,  -49.34463683]]))"
      ]
     },
     "execution_count": 103,
     "metadata": {},
     "output_type": "execute_result"
    }
   ],
   "source": [
    "wind[0].data()"
   ]
  },
  {
   "cell_type": "code",
   "execution_count": 71,
   "metadata": {
    "collapsed": false,
    "scrolled": true
   },
   "outputs": [
    {
     "name": "stdout",
     "output_type": "stream",
     "text": [
      "1 loop, best of 3: 148 ms per loop\n"
     ]
    }
   ],
   "source": [
    "%timeit ReadGRB(datasrc + AllFileName[10])"
   ]
  },
  {
   "cell_type": "code",
   "execution_count": 9,
   "metadata": {
    "collapsed": true
   },
   "outputs": [],
   "source": [
    "uin, vin = ReadGRB(datasrc + AllFileName[10])\n",
    "a = uin[0]\n",
    "b = uin[1]\n",
    "c = vin[10]"
   ]
  },
  {
   "cell_type": "code",
   "execution_count": 37,
   "metadata": {
    "collapsed": false
   },
   "outputs": [
    {
     "data": {
      "text/plain": [
       "array([[-133.459     , -133.35382879, -133.24861012, ...,  -65.30358218,\n",
       "         -65.19490391,  -65.08626455],\n",
       "       [-133.4896784 , -133.38443247, -133.27913898, ...,  -65.27936503,\n",
       "         -65.17060391,  -65.06188181],\n",
       "       [-133.52040446, -133.41508372, -133.3097153 , ...,  -65.25510899,\n",
       "         -65.14626491,  -65.03745993],\n",
       "       ..., \n",
       "       [-152.76156362, -152.61422451, -152.46674032, ...,  -49.77230343,\n",
       "         -49.61380974,  -49.45544487],\n",
       "       [-152.82847374, -152.68100732, -152.53339539, ...,  -49.71728991,\n",
       "         -49.55863314,  -49.40010561],\n",
       "       [-152.8955295 , -152.74793564, -152.60019583, ...,  -49.66214743,\n",
       "         -49.5033273 ,  -49.34463683]])"
      ]
     },
     "execution_count": 37,
     "metadata": {},
     "output_type": "execute_result"
    }
   ],
   "source": [
    "a.latlons()[1]"
   ]
  },
  {
   "cell_type": "code",
   "execution_count": null,
   "metadata": {
    "collapsed": true
   },
   "outputs": [],
   "source": []
  }
 ],
 "metadata": {
  "anaconda-cloud": {},
  "kernelspec": {
   "display_name": "Python [Root]",
   "language": "python",
   "name": "Python [Root]"
  },
  "language_info": {
   "codemirror_mode": {
    "name": "ipython",
    "version": 3
   },
   "file_extension": ".py",
   "mimetype": "text/x-python",
   "name": "python",
   "nbconvert_exporter": "python",
   "pygments_lexer": "ipython3",
   "version": "3.5.2"
  }
 },
 "nbformat": 4,
 "nbformat_minor": 0
}
