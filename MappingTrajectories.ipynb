{
 "cells": [
  {
   "cell_type": "code",
   "execution_count": null,
   "metadata": {
    "collapsed": true
   },
   "outputs": [],
   "source": [
    "import datetime\n",
    "import weatherMethods\n",
    "import timeMethods\n",
    "from imp import reload\n",
    "import os\n",
    "import numpy as np\n",
    "import pandas as pd\n",
    "import time\n",
    "import matplotlib.pyplot as plt\n",
    "from mpl_toolkits.basemap import Basemap, cm\n",
    "from tools import press, proxilvl, g\n",
    "import pickle\n",
    "from sklearn.neighbors import KDTree, BallTree, NearestNeighbors\n",
    "from scipy.spatial import cKDTree\n",
    "%matplotlib inline"
   ]
  },
  {
   "cell_type": "code",
   "execution_count": null,
   "metadata": {
    "collapsed": true
   },
   "outputs": [],
   "source": [
    "DEP = 'FLL'\n",
    "ARR = 'JFK'\n",
    "Year = 2013\n",
    "print(DEP,'-->',ARR)"
   ]
  },
  {
   "cell_type": "markdown",
   "metadata": {},
   "source": [
    "# Initialize Grid System & Construct lvl-specific KDTree\n",
    "\n",
    "All US mainland"
   ]
  },
  {
   "cell_type": "code",
   "execution_count": null,
   "metadata": {
    "collapsed": true
   },
   "outputs": [],
   "source": [
    "departureTime = datetime.datetime(2013, 2, 1, 1, 30)\n",
    "arrivalTime = datetime.datetime(2013, 2, 1, 6, 30)\n",
    "WindClass = weatherMethods.GetWindSpeed(departureTime, arrivalTime)\n",
    "Winds = WindClass.winds"
   ]
  },
  {
   "cell_type": "code",
   "execution_count": null,
   "metadata": {
    "collapsed": false
   },
   "outputs": [],
   "source": [
    "Winds[0][0][0].analDate"
   ]
  },
  {
   "cell_type": "code",
   "execution_count": null,
   "metadata": {
    "collapsed": false
   },
   "outputs": [],
   "source": [
    "# Tree_Dict = {}\n",
    "# i = 0\n",
    "# for levels in WindClass.lvls.keys():\n",
    "#     i += 1\n",
    "#     Grid_lat, Grid_lon = Winds[0][0][WindClass.lvls[levels]].data(22, 52, -130, -60)[1:3]\n",
    "# #     Grid_lat, Grid_lon = Winds[0][0][WindClass.lvls[levels]].data(28, 45, -99, -68)[1:3]\n",
    "# #     print(Grid.shape) 145999 * 2\n",
    "#     Grid = np.dstack((Grid_lat, Grid_lon))[0]\n",
    "#     Tree_Dict[levels] = cKDTree(Grid)\n",
    "# pickle.dump(Tree_Dict, open('Grid_KDTree.p','wb'))"
   ]
  },
  {
   "cell_type": "code",
   "execution_count": null,
   "metadata": {
    "collapsed": false
   },
   "outputs": [],
   "source": [
    "Tree_Dict = pickle.load(open('Grid_KDTree.p','rb'))"
   ]
  },
  {
   "cell_type": "markdown",
   "metadata": {},
   "source": [
    "# Map Trajectories"
   ]
  },
  {
   "cell_type": "code",
   "execution_count": null,
   "metadata": {
    "collapsed": true
   },
   "outputs": [],
   "source": [
    "VTrackPath = os.getcwd() + '/TFMS_NEW/New_' + DEP + ARR + str(Year) + '.csv'\n",
    "VTrack = pd.read_csv(VTrackPath, parse_dates=[6])\n",
    "LabelData = pd.read_csv(os.getcwd() + '/TFMS_NEW/Label_' + DEP+'_' + ARR+ '_' + str(Year) + '.csv', parse_dates=[6])\n",
    "CenterTraj = VTrack[VTrack.FID.isin(LabelData[LabelData.MedianID != -2].FID.values)].reset_index(drop = 1)\n"
   ]
  },
  {
   "cell_type": "code",
   "execution_count": null,
   "metadata": {
    "collapsed": false
   },
   "outputs": [],
   "source": [
    "CenterTraj['levels'] = CenterTraj['Alt'].apply(lambda x: proxilvl(x*100, WindClass.lvls))\n",
    "CenterTraj['QueryIdx'] = 0\n",
    "CenterTraj['QueryIdx'] = CenterTraj['QueryIdx'].astype(int)\n",
    "for lvl, gp in CenterTraj.groupby('levels'):\n",
    "    CenterTraj.loc[gp.index, 'QueryIdx'] = Tree_Dict[lvl].query(gp[['Lat','Lon']])[1]"
   ]
  },
  {
   "cell_type": "code",
   "execution_count": null,
   "metadata": {
    "collapsed": false
   },
   "outputs": [],
   "source": [
    "Tree_index = CenterTraj[['levels','FID','Lat','Lon','GroundSpeed','DT','Dist','QueryIdx']].set_index(['levels'])"
   ]
  },
  {
   "cell_type": "code",
   "execution_count": null,
   "metadata": {
    "collapsed": false
   },
   "outputs": [],
   "source": [
    "print('----------------Start Mapping Wind with Trajectories----------------')\n",
    "MissingFID = []\n",
    "st = time.time()\n",
    "for i in range(LabelData.shape[0]):\n",
    "    if i % 500 == 0:\n",
    "        print(i, time.time() - st)\n",
    "    try:\n",
    "        if i == 0:\n",
    "            temp_wind = Tree_index.copy()\n",
    "        else:\n",
    "            pass\n",
    "        departureTime = LabelData.loc[i, 'Elap_Time']\n",
    "        arrivalTime = departureTime + datetime.timedelta(hours = 12)\n",
    "        WindClass = weatherMethods.GetWindSpeed(departureTime, arrivalTime)\n",
    "        Winds = WindClass.winds\n",
    "        \n",
    "        u_col_name = 'u_wind_' + str(LabelData.loc[i, 'FID'])\n",
    "        v_col_name = 'v_wind_' + str(LabelData.loc[i, 'FID'])\n",
    "        \n",
    "        temp_wind[u_col_name] = 0.0\n",
    "        temp_wind[v_col_name] = 0.0\n",
    "        for lvl in Tree_index.index.unique():\n",
    "            try:\n",
    "                u_wind = Winds[0][0][WindClass.lvls[lvl]].data(22, 52, -130, -60)[0][Tree_index.loc[lvl,'QueryIdx']]\n",
    "                v_wind = Winds[0][1][WindClass.lvls[lvl]].data(22, 52, -130, -60)[0][Tree_index.loc[lvl,'QueryIdx']]\n",
    "            except KeyError:\n",
    "                u_wind = np.nan\n",
    "                v_wind = np.nan\n",
    "            temp_wind.set_value(lvl, u_col_name, u_wind)\n",
    "            temp_wind.set_value(lvl, v_col_name, v_wind)\n",
    "    except KeyboardInterrupt:\n",
    "        break\n",
    "    except:\n",
    "        MissingFID.append(LabelData.loc[i,'FID'])\n",
    "        print(sys.exc_info()[0], LabelData.loc[i,'FID'])\n",
    "print(time.time() - st)\n",
    "pickle.dump(MissingFID, open('MissingFID' + DEP+ARR+str(Year) + '.p','wb'))\n"
   ]
  },
  {
   "cell_type": "code",
   "execution_count": null,
   "metadata": {
    "collapsed": false
   },
   "outputs": [],
   "source": [
    "Final_wind = temp_wind.copy()\n",
    "Final_wind = Final_wind.reset_index(drop = False)\n",
    "Final_wind.to_csv(os.getcwd() + '/Wind_Mapping_result/' + DEP + '_'+ ARR + '_' + str(2013) + '.csv', index = False)\n"
   ]
  },
  {
   "cell_type": "code",
   "execution_count": null,
   "metadata": {
    "collapsed": true
   },
   "outputs": [],
   "source": [
    "def GetAzimuth(Final_wind1):\n",
    "    Final_wind = Final_wind1.copy()\n",
    "    Final_wind['azimuth'] = 0.0\n",
    "    FID = []\n",
    "    for rowid, row in Final_wind.iterrows():\n",
    "        if int(row.FID) not in FID:\n",
    "            FID.append(int(row.FID))\n",
    "            latl = row.Lat\n",
    "            lonl = row.Lon\n",
    "        else:\n",
    "            Final_wind.loc[rowid,'azimuth'] = g.inv(lonl, latl, row.Lon, row.Lat)[0]\n",
    "            latl = row.Lat\n",
    "            lonl = row.Lon\n",
    "    return Final_wind\n",
    "\n",
    "\n",
    "# In[329]:\n",
    "\n",
    "def GetHeadWind(Final_wind):\n",
    "    Final_Head_Wind = Final_wind[['FID', 'Lat', 'Lon', 'levels', 'QueryIdx',\n",
    "                              'azimuth','GroundSpeed', 'DT', 'Dist']].copy()\n",
    "    # Indices need to be justified\n",
    "    Columns = Final_wind.columns[9:]\n",
    "    for i in range(Columns.shape[0]//2):\n",
    "        ColName = 'Headwind_' + Columns[i*2][7:]\n",
    "        ColName1 = 'WindDist_' + Columns[i*2][7:]\n",
    "        Final_Head_Wind[ColName] = (Final_wind[Columns[2*i]] * Final_wind['azimuth'].apply(lambda x: math.sin(x*math.pi/180)) + \n",
    "                                    Final_wind[Columns[2*i+1]] * Final_wind['azimuth'].apply(lambda x: math.cos(x*math.pi/180)))\n",
    "        # m/s\n",
    "        Final_Head_Wind[ColName1] = Final_Head_Wind[ColName] * Final_Head_Wind['DT']\n",
    "    return Final_Head_Wind\n"
   ]
  },
  {
   "cell_type": "code",
   "execution_count": null,
   "metadata": {
    "collapsed": true
   },
   "outputs": [],
   "source": [
    "Final_wind = GetAzimuth(Final_wind)\n",
    "Final_Head_Wind = GetHeadWind(Final_wind)\n",
    "\n",
    "Final_Head_Wind.to_csv(os.getcwd() + '/Wind_Mapping_result/' + DEP + '_'+ ARR + '_' + str(2013) + '_WindSpeed.csv', index = False)\n",
    "Final_wind.to_csv(os.getcwd() + '/Wind_Mapping_result/' + DEP + '_'+ ARR + '_' + str(2013) + '.csv', index = False)\n"
   ]
  },
  {
   "cell_type": "code",
   "execution_count": null,
   "metadata": {
    "collapsed": true
   },
   "outputs": [],
   "source": [
    "IAH_BOS_MNL = pd.read_csv(os.getcwd() + '/MNL_DATA/MNL_' + DEP+'_' + ARR+ '_' + str(Year) + '_Mean.csv')\n",
    "\n",
    "\n",
    "# In[287]:\n",
    "\n",
    "MeanWindSP = Final_Head_Wind.groupby('FID')[Final_Head_Wind.columns[9::2]].mean().unstack().reset_index() # m/s\n",
    "WindDist = (Final_Head_Wind.groupby('FID')[Final_Head_Wind.columns[10::2]].sum()*0.0005399568034555).unstack().reset_index() # nmi\n",
    "MeanGSP = Final_Head_Wind.groupby('FID').agg({'GroundSpeed':np.mean, 'Dist': np.sum}).unstack().reset_index() # knot\n",
    "# Wide to Long\n",
    "WindDist['FID_Member'] = WindDist['level_0'].apply(lambda x: int(x[9:]))\n",
    "WindDist.columns = ['old','FID_x', 'Wind_Dist','FID_Member']\n",
    "MeanWindSP['FID_Member'] = MeanWindSP['level_0'].apply(lambda x: int(x[9:]))\n",
    "MeanWindSP.columns = ['old','FID_x', 'MeanWindSpeed','FID_Member']\n",
    "\n",
    "\n",
    "# In[306]:\n",
    "\n",
    "IAH_BOS_MNL_NEW = IAH_BOS_MNL.merge(WindDist[['FID_x','FID_Member','Wind_Dist']], left_on=['FID_x','FID_Member'], right_on = ['FID_x','FID_Member'], how='left')\n",
    "IAH_BOS_MNL_NEW = IAH_BOS_MNL_NEW.merge(MeanWindSP[['FID_x','FID_Member','MeanWindSpeed']], left_on=['FID_x','FID_Member'], right_on = ['FID_x','FID_Member'], how='left')\n",
    "\n",
    "\n",
    "# In[316]:\n",
    "\n",
    "IAH_BOS_MNL_NEW.to_csv(os.getcwd() + '/MNL_DATA/NEW_MNL_' + DEP+ARR+str(Year) +'.csv', index = False)\n"
   ]
  },
  {
   "cell_type": "code",
   "execution_count": null,
   "metadata": {
    "collapsed": true
   },
   "outputs": [],
   "source": []
  }
 ],
 "metadata": {
  "anaconda-cloud": {},
  "kernelspec": {
   "display_name": "Python [Root]",
   "language": "python",
   "name": "Python [Root]"
  },
  "language_info": {
   "codemirror_mode": {
    "name": "ipython",
    "version": 3
   },
   "file_extension": ".py",
   "mimetype": "text/x-python",
   "name": "python",
   "nbconvert_exporter": "python",
   "pygments_lexer": "ipython3",
   "version": "3.5.2"
  }
 },
 "nbformat": 4,
 "nbformat_minor": 0
}
