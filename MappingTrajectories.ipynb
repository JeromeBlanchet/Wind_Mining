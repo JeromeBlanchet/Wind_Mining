{
 "cells": [
  {
   "cell_type": "code",
   "execution_count": null,
   "metadata": {
    "collapsed": true
   },
   "outputs": [],
   "source": [
    "import datetime\n",
    "import weatherMethods\n",
    "import timeMethods\n",
    "from imp import reload\n",
    "import os\n",
    "import numpy as np\n",
    "import pandas as pd\n",
    "import time\n",
    "import matplotlib.pyplot as plt\n",
    "from mpl_toolkits.basemap import Basemap, cm\n",
    "from scipy.interpolate import griddata\n",
    "from mpl_toolkits.axes_grid1 import make_axes_locatable\n",
    "from tools import press, proxilvl, g\n",
    "import pickle\n",
    "from sklearn.neighbors import KDTree, BallTree, NearestNeighbors\n",
    "from scipy.spatial import cKDTree\n",
    "%matplotlib inline"
   ]
  },
  {
   "cell_type": "markdown",
   "metadata": {},
   "source": [
    "# Initialize Grid System & Construct lvl-specific KDTree"
   ]
  },
  {
   "cell_type": "code",
   "execution_count": null,
   "metadata": {
    "collapsed": true
   },
   "outputs": [],
   "source": [
    "departureTime = datetime.datetime(2013, 1, 1, 1, 30)\n",
    "arrivalTime = datetime.datetime(2013, 1, 1, 6, 30)\n",
    "WindClass = weatherMethods.GetWindSpeed(departureTime, arrivalTime)\n",
    "Winds = WindClass.winds"
   ]
  },
  {
   "cell_type": "code",
   "execution_count": null,
   "metadata": {
    "collapsed": true
   },
   "outputs": [],
   "source": [
    "Tree_Dict = {}\n",
    "i = 0\n",
    "for levels in WindClass.lvls.keys():\n",
    "    i += 1\n",
    "    Grid_lat, Grid_lon = Winds[0][0][WindClass.lvls[levels]].data(22, 52, -130, -60)[1:3]\n",
    "#     print(Grid.shape) 145999 * 2\n",
    "    Grid = np.dstack((Grid_lat, Grid_lon))[0]\n",
    "    Tree_Dict[levels] = cKDTree(Grid)\n",
    "pickle.dump(Tree_Dict, open('Grid_KDTree.p','wb'))"
   ]
  },
  {
   "cell_type": "markdown",
   "metadata": {},
   "source": [
    "# Map Trajectories"
   ]
  },
  {
   "cell_type": "code",
   "execution_count": null,
   "metadata": {
    "collapsed": true
   },
   "outputs": [],
   "source": [
    "VTrackPath = os.getcwd() + '/TFMS_NEW/New_IAHBOS2013.csv'\n",
    "VTrack = pd.read_csv(VTrackPath, parse_dates=[6])\n",
    "LabelData = pd.read_csv(os.getcwd() + '/TFMS_NEW/Label_IAH_BOS_2013.csv')\n",
    "Sample = VTrack[VTrack.FID == 20130101632288].reset_index(drop = 1)"
   ]
  },
  {
   "cell_type": "code",
   "execution_count": null,
   "metadata": {
    "collapsed": true
   },
   "outputs": [],
   "source": [
    "CenterTraj = VTrack[VTrack.FID.isin(LabelData[LabelData.MedianID != -2].FID.values)].reset_index(drop = 1)"
   ]
  },
  {
   "cell_type": "code",
   "execution_count": null,
   "metadata": {
    "collapsed": true
   },
   "outputs": [],
   "source": [
    "st = time.time()\n",
    "depTime = Sample.Elap_Time.iloc[0]\n",
    "arrTime = Sample.Elap_Time.iloc[-1]\n",
    "\n",
    "Position = Sample[['Lat','Lon','Alt']].values\n",
    "Position[:,2] = Position[:,2] * 100\n",
    "\n",
    "WindClass = weatherMethods.GetWindSpeed(depTime, arrTime)\n",
    "print(time.time() - st)\n",
    "\n",
    "uniquelvl = []\n",
    "\n",
    "for i in range(Position.shape[0]):\n",
    "    alt = Position[i,2]\n",
    "    pro_lvl = proxilvl(alt,WindClass.lvls)\n",
    "    Position[i,2] = pro_lvl\n",
    "    if pro_lvl not in uniquelvl:\n",
    "        uniquelvl.append(pro_lvl)\n",
    "    else:\n",
    "        pass\n",
    "print(time.time() - st)\n",
    "\n",
    "Winds = WindClass.winds\n",
    "for i in range(len(uniquelvl)):\n",
    "    if uniquelvl[i] >= 300:\n",
    "#         31.31666667,   -94.3\n",
    "#         29.95,   -95.35\n",
    "#         40.76666667,   -73.6\n",
    "#         42.33333333,   -70.96666667\n",
    "        u_lat = 31.31666667\n",
    "        b_lat = 29.95\n",
    "        u_lon = -94.3\n",
    "        b_lon = -95.35\n",
    "        u_wind = Winds[0][0][WindClass.lvls[uniquelvl[i]]].data(lat1 = b_lat, lat2 = u_lat,lon1 = b_lon, lon2 = u_lon)\n",
    "        v_wind = Winds[0][1][WindClass.lvls[uniquelvl[i]]].data(lat1 = b_lat, lat2 = u_lat,lon1 = b_lon, lon2 = u_lon)\n",
    "    else:\n",
    "        u_lat = 40.66666667\n",
    "        b_lat = 31.45\n",
    "        u_lon = -73.75\n",
    "        b_lon = -94.2\n",
    "        u_wind = Winds[0][0][WindClass.lvls[uniquelvl[i]]].data(lat1 = b_lat, lat2 = u_lat,lon1 = b_lon, lon2 = u_lon)\n",
    "        v_wind = Winds[0][1][WindClass.lvls[uniquelvl[i]]].data(lat1 = b_lat, lat2 = u_lat,lon1 = b_lon, lon2 = u_lon)\n",
    "    \n",
    "    u_windspeed = u_wind[0]\n",
    "    lat = u_wind[1]\n",
    "    lon = u_wind[2]\n",
    "    pres_lvl = np.ones(lat.shape) * uniquelvl[i]\n",
    "    v_windspeed = v_wind[0]\n",
    "\n",
    "    if i == 0:\n",
    "        wind_array = np.dstack((lat, lon, pres_lvl, u_windspeed, v_windspeed))[0]\n",
    "\n",
    "    else:\n",
    "        temp_wind = np.dstack((lat, lon, pres_lvl, u_windspeed, v_windspeed))[0]\n",
    "        wind_array = np.append(wind_array, temp_wind, axis = 0)\n",
    "\n",
    "print(time.time() - st)\n",
    "# tree = cKDTree(wind_array[:,:3], leafsize = 100)\n",
    "# print(time.time() - st)\n",
    "# _, near_idx = tree.query(Position[:,:3], k = 1)\n",
    "# wind_vector = wind_array[near_idx,3:]\n",
    "# print(time.time() - st)"
   ]
  },
  {
   "cell_type": "code",
   "execution_count": null,
   "metadata": {
    "collapsed": true
   },
   "outputs": [],
   "source": []
  }
 ],
 "metadata": {
  "anaconda-cloud": {},
  "kernelspec": {
   "display_name": "Python [Root]",
   "language": "python",
   "name": "Python [Root]"
  },
  "language_info": {
   "codemirror_mode": {
    "name": "ipython",
    "version": 3
   },
   "file_extension": ".py",
   "mimetype": "text/x-python",
   "name": "python",
   "nbconvert_exporter": "python",
   "pygments_lexer": "ipython3",
   "version": "3.5.2"
  }
 },
 "nbformat": 4,
 "nbformat_minor": 0
}
