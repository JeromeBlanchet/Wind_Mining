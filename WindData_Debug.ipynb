{
 "cells": [
  {
   "cell_type": "code",
   "execution_count": 1,
   "metadata": {
    "collapsed": false
   },
   "outputs": [],
   "source": [
    "import datetime\n",
    "import weatherMethods\n",
    "import timeMethods\n",
    "from imp import reload\n",
    "import os\n",
    "import numpy as np\n",
    "import pandas as pd\n",
    "import time\n",
    "import matplotlib.pyplot as plt\n",
    "%matplotlib inline"
   ]
  },
  {
   "cell_type": "code",
   "execution_count": 2,
   "metadata": {
    "collapsed": false
   },
   "outputs": [
    {
     "data": {
      "text/plain": [
       "<module 'timeMethods' from '/home/liuyulin101/Desktop/Wind_Mining/timeMethods.py'>"
      ]
     },
     "execution_count": 2,
     "metadata": {},
     "output_type": "execute_result"
    }
   ],
   "source": [
    "reload(weatherMethods)\n",
    "reload(timeMethods)"
   ]
  },
  {
   "cell_type": "code",
   "execution_count": 206,
   "metadata": {
    "collapsed": false
   },
   "outputs": [
    {
     "name": "stdout",
     "output_type": "stream",
     "text": [
      "The slowest run took 4.81 times longer than the fastest. This could mean that an intermediate result is being cached.\n",
      "100 loops, best of 3: 3.55 ms per loop\n"
     ]
    }
   ],
   "source": [
    "%timeit '1230' in ['123' + str(k) for k in range(10000)]"
   ]
  },
  {
   "cell_type": "markdown",
   "metadata": {},
   "source": [
    "## Debug weatherMethods"
   ]
  },
  {
   "cell_type": "code",
   "execution_count": 4,
   "metadata": {
    "collapsed": false
   },
   "outputs": [
    {
     "name": "stdout",
     "output_type": "stream",
     "text": [
      "2013-01-01 13:50:00\n",
      "-124.367689749\n"
     ]
    }
   ],
   "source": [
    "# UTC Flight Departure Time\n",
    "departureTime = datetime.datetime(2013, 1, 1, 13, 50)\n",
    "arrivalTime = datetime.datetime(2013, 1, 1, 19, 30)\n",
    "print(departureTime)\n",
    "\n",
    "# This function downloads all the data needed for the flight\n",
    "WindClass = weatherMethods.GetWindSpeed(departureTime, arrivalTime)\n",
    "# meteoDT, winds, lvls, valid_timeTags\n",
    "\n",
    "#Current position\n",
    "lon = -90\n",
    "lat = 43\n",
    "# Current altitude (ft)\n",
    "alt = 30000\n",
    "\n",
    "# UTC time at currentpostion\n",
    "t = datetime.datetime(2013, 1, 1, 18, 30)\n",
    "\n",
    "# Last position\n",
    "lonl = -89.9\n",
    "latl= 43.1\n",
    "\n",
    "# This function gives wind value at current position (km/h)\n",
    "wind  = WindClass.getWind(lon, lat, alt, t, lonl, latl)\n",
    "\n",
    "print(wind)"
   ]
  },
  {
   "cell_type": "code",
   "execution_count": 236,
   "metadata": {
    "collapsed": false
   },
   "outputs": [
    {
     "name": "stdout",
     "output_type": "stream",
     "text": [
      "['002', '003', '006']\n",
      "3\n"
     ]
    }
   ],
   "source": [
    "print(WindClass.final_timeTags)\n",
    "print(len(WindClass.winds))"
   ]
  },
  {
   "cell_type": "markdown",
   "metadata": {},
   "source": [
    "## Test on Trajectory Matching"
   ]
  },
  {
   "cell_type": "code",
   "execution_count": 3,
   "metadata": {
    "collapsed": false
   },
   "outputs": [],
   "source": [
    "VTrackPath = os.getcwd() + '/TFMS_NEW/New_IAHBOS2013.csv'\n",
    "VTrack = pd.read_csv(VTrackPath, parse_dates=[6])"
   ]
  },
  {
   "cell_type": "code",
   "execution_count": 4,
   "metadata": {
    "collapsed": false
   },
   "outputs": [],
   "source": [
    "Sample = VTrack[VTrack.FID == 20130101632288]"
   ]
  },
  {
   "cell_type": "code",
   "execution_count": 118,
   "metadata": {
    "collapsed": false
   },
   "outputs": [
    {
     "data": {
      "text/html": [
       "<div>\n",
       "<table border=\"1\" class=\"dataframe\">\n",
       "  <thead>\n",
       "    <tr style=\"text-align: right;\">\n",
       "      <th></th>\n",
       "      <th>FID</th>\n",
       "      <th>FlightIdx</th>\n",
       "      <th>ACID</th>\n",
       "      <th>ACT_DATE</th>\n",
       "      <th>DEP</th>\n",
       "      <th>ARR</th>\n",
       "      <th>Elap_Time</th>\n",
       "      <th>Lat</th>\n",
       "      <th>Lon</th>\n",
       "      <th>Alt</th>\n",
       "      <th>GroundSpeed</th>\n",
       "      <th>ID2</th>\n",
       "      <th>DT</th>\n",
       "      <th>Dist</th>\n",
       "      <th>Speed</th>\n",
       "      <th>CumDist</th>\n",
       "    </tr>\n",
       "  </thead>\n",
       "  <tbody>\n",
       "    <tr>\n",
       "      <th>0</th>\n",
       "      <td>20130101632288</td>\n",
       "      <td>471666</td>\n",
       "      <td>UAL386</td>\n",
       "      <td>01-JAN-13 00:00:00</td>\n",
       "      <td>IAH</td>\n",
       "      <td>BOS</td>\n",
       "      <td>2013-01-01 01:08:00</td>\n",
       "      <td>29.983333</td>\n",
       "      <td>-95.300000</td>\n",
       "      <td>8</td>\n",
       "      <td>159</td>\n",
       "      <td>471666-UAL386</td>\n",
       "      <td>0.0</td>\n",
       "      <td>0.000000</td>\n",
       "      <td>0.000000</td>\n",
       "      <td>0.000000</td>\n",
       "    </tr>\n",
       "    <tr>\n",
       "      <th>1</th>\n",
       "      <td>20130101632288</td>\n",
       "      <td>471666</td>\n",
       "      <td>UAL386</td>\n",
       "      <td>01-JAN-13 00:00:00</td>\n",
       "      <td>IAH</td>\n",
       "      <td>BOS</td>\n",
       "      <td>2013-01-01 01:09:00</td>\n",
       "      <td>30.016667</td>\n",
       "      <td>-95.266667</td>\n",
       "      <td>26</td>\n",
       "      <td>253</td>\n",
       "      <td>471666-UAL386</td>\n",
       "      <td>60.0</td>\n",
       "      <td>2.647485</td>\n",
       "      <td>0.044125</td>\n",
       "      <td>2.647485</td>\n",
       "    </tr>\n",
       "    <tr>\n",
       "      <th>2</th>\n",
       "      <td>20130101632288</td>\n",
       "      <td>471666</td>\n",
       "      <td>UAL386</td>\n",
       "      <td>01-JAN-13 00:00:00</td>\n",
       "      <td>IAH</td>\n",
       "      <td>BOS</td>\n",
       "      <td>2013-01-01 01:11:00</td>\n",
       "      <td>30.166667</td>\n",
       "      <td>-95.233333</td>\n",
       "      <td>86</td>\n",
       "      <td>300</td>\n",
       "      <td>471666-UAL386</td>\n",
       "      <td>120.0</td>\n",
       "      <td>9.170856</td>\n",
       "      <td>0.076424</td>\n",
       "      <td>11.818341</td>\n",
       "    </tr>\n",
       "  </tbody>\n",
       "</table>\n",
       "</div>"
      ],
      "text/plain": [
       "              FID  FlightIdx    ACID            ACT_DATE  DEP  ARR  \\\n",
       "0  20130101632288     471666  UAL386  01-JAN-13 00:00:00  IAH  BOS   \n",
       "1  20130101632288     471666  UAL386  01-JAN-13 00:00:00  IAH  BOS   \n",
       "2  20130101632288     471666  UAL386  01-JAN-13 00:00:00  IAH  BOS   \n",
       "\n",
       "            Elap_Time        Lat        Lon  Alt  GroundSpeed            ID2  \\\n",
       "0 2013-01-01 01:08:00  29.983333 -95.300000    8          159  471666-UAL386   \n",
       "1 2013-01-01 01:09:00  30.016667 -95.266667   26          253  471666-UAL386   \n",
       "2 2013-01-01 01:11:00  30.166667 -95.233333   86          300  471666-UAL386   \n",
       "\n",
       "      DT      Dist     Speed    CumDist  \n",
       "0    0.0  0.000000  0.000000   0.000000  \n",
       "1   60.0  2.647485  0.044125   2.647485  \n",
       "2  120.0  9.170856  0.076424  11.818341  "
      ]
     },
     "execution_count": 118,
     "metadata": {},
     "output_type": "execute_result"
    }
   ],
   "source": [
    "Sample.head(3)"
   ]
  },
  {
   "cell_type": "code",
   "execution_count": 242,
   "metadata": {
    "collapsed": false
   },
   "outputs": [
    {
     "name": "stdout",
     "output_type": "stream",
     "text": [
      "22.222797393798828\n"
     ]
    }
   ],
   "source": [
    "st = time.time()\n",
    "depTime = Sample.Elap_Time.iloc[0]\n",
    "arrTime = Sample.Elap_Time.iloc[-1]\n",
    "\n",
    "Position = Sample[['Lat','Lon','Alt']].values\n",
    "Position[:,2] = Position[:,2] * 100\n",
    "TimeStamp = Sample.Elap_Time\n",
    "\n",
    "WindClass = weatherMethods.GetWindSpeed(depTime, arrTime)\n",
    "lastPos = Position[0]\n",
    "\n",
    "WindSpeed = [0]\n",
    "for idx in range(Position.shape[0] - 1):\n",
    "\n",
    "    curPos = Position[idx + 1]\n",
    "    curTime = TimeStamp.iloc[idx+1]\n",
    "    wind  = WindClass.getWind(curPos[1], curPos[0], curPos[2], curTime,lastPos[1], lastPos[0])\n",
    "    WindSpeed.append(wind)\n",
    "    lastPos = curPos\n",
    "    \n",
    "print(time.time() - st)"
   ]
  },
  {
   "cell_type": "code",
   "execution_count": 139,
   "metadata": {
    "collapsed": false
   },
   "outputs": [
    {
     "name": "stderr",
     "output_type": "stream",
     "text": [
      "/home/liuyulin101/anaconda3/lib/python3.5/site-packages/ipykernel/__main__.py:1: SettingWithCopyWarning: \n",
      "A value is trying to be set on a copy of a slice from a DataFrame.\n",
      "Try using .loc[row_indexer,col_indexer] = value instead\n",
      "\n",
      "See the caveats in the documentation: http://pandas.pydata.org/pandas-docs/stable/indexing.html#indexing-view-versus-copy\n",
      "  if __name__ == '__main__':\n",
      "/home/liuyulin101/anaconda3/lib/python3.5/site-packages/pandas/core/indexing.py:465: SettingWithCopyWarning: \n",
      "A value is trying to be set on a copy of a slice from a DataFrame.\n",
      "Try using .loc[row_indexer,col_indexer] = value instead\n",
      "\n",
      "See the caveats in the documentation: http://pandas.pydata.org/pandas-docs/stable/indexing.html#indexing-view-versus-copy\n",
      "  self.obj[item] = s\n",
      "/home/liuyulin101/anaconda3/lib/python3.5/site-packages/ipykernel/__main__.py:3: SettingWithCopyWarning: \n",
      "A value is trying to be set on a copy of a slice from a DataFrame.\n",
      "Try using .loc[row_indexer,col_indexer] = value instead\n",
      "\n",
      "See the caveats in the documentation: http://pandas.pydata.org/pandas-docs/stable/indexing.html#indexing-view-versus-copy\n",
      "  app.launch_new_instance()\n",
      "/home/liuyulin101/anaconda3/lib/python3.5/site-packages/ipykernel/__main__.py:4: SettingWithCopyWarning: \n",
      "A value is trying to be set on a copy of a slice from a DataFrame.\n",
      "Try using .loc[row_indexer,col_indexer] = value instead\n",
      "\n",
      "See the caveats in the documentation: http://pandas.pydata.org/pandas-docs/stable/indexing.html#indexing-view-versus-copy\n"
     ]
    }
   ],
   "source": [
    "Sample['WindSpeed'] = 0\n",
    "Sample.loc[1:,'WindSpeed'] = np.array(WindSpeed)\n",
    "Sample['AirSpeed'] = Sample.GroundSpeed * 1.852 - Sample.WindSpeed\n",
    "Sample['WindDist'] = Sample.AirSpeed * Sample.DT /3600 * 0.539957"
   ]
  },
  {
   "cell_type": "code",
   "execution_count": 145,
   "metadata": {
    "collapsed": false
   },
   "outputs": [
    {
     "name": "stdout",
     "output_type": "stream",
     "text": [
      "1260.33594474\n",
      "1460.54414964\n"
     ]
    }
   ],
   "source": [
    "print(sum(Sample.WindDist))\n",
    "print(sum(Sample.Dist))"
   ]
  },
  {
   "cell_type": "code",
   "execution_count": 184,
   "metadata": {
    "collapsed": false
   },
   "outputs": [
    {
     "data": {
      "text/plain": [
       "datetime.datetime(2013, 1, 1, 0, 0)"
      ]
     },
     "execution_count": 184,
     "metadata": {},
     "output_type": "execute_result"
    }
   ],
   "source": [
    "WindClass.meteoTime"
   ]
  },
  {
   "cell_type": "markdown",
   "metadata": {},
   "source": [
    "## Try nearest neighbor"
   ]
  },
  {
   "cell_type": "code",
   "execution_count": 107,
   "metadata": {
    "collapsed": true
   },
   "outputs": [],
   "source": [
    "def press(alt):\n",
    "    z = alt/3.28084\n",
    "    return 1013.25*(1-(0.0065*z)/288.15)**5.255\n",
    "\n",
    "# Returns the closest lvl from levels with altitude (atl)\n",
    "def proxilvl(alt , lvls):\n",
    "    p = press(alt)\n",
    "    levels = np.array(sorted(lvls.keys()))\n",
    "    return levels[np.abs(levels - p).argmin()]"
   ]
  },
  {
   "cell_type": "code",
   "execution_count": 114,
   "metadata": {
    "collapsed": false
   },
   "outputs": [],
   "source": [
    "uniquelvl = []\n",
    "for alt in Position[:,2]:\n",
    "    pro_lvl = proxilvl(alt,WindClass.lvls)\n",
    "    if pro_lvl not in uniquelvl:\n",
    "        uniquelvl.append(pro_lvl)"
   ]
  },
  {
   "cell_type": "code",
   "execution_count": 185,
   "metadata": {
    "collapsed": false
   },
   "outputs": [],
   "source": [
    "Winds = WindClass.winds\n",
    "for i in range(len(uniquelvl)):\n",
    "    u_wind = Winds[0][0][WindClass.lvls[uniquelvl[i]]].data(lat1 = 29.983, lat2 = 42.5499,lon1 = -95.3, lon2 = -70.967)\n",
    "    u_windspeed = u_wind[0]\n",
    "    u_lat = u_wind[1]\n",
    "    u_lon = u_wind[2]\n",
    "    \n",
    "    v_wind = Winds[0][1][WindClass.lvls[uniquelvl[i]]].data(lat1 = 29.983, lat2 = 42.5499,lon1 = -95.3, lon2 = -70.967)\n",
    "    v_windspeed = v_wind[0]\n",
    "    v_lat = v_wind[1]\n",
    "    v_lon = v_wind[2]\n",
    "    if i == 0:\n",
    "        u_wind_array = np.dstack((u_lat,u_lon,u_windspeed))[0]\n",
    "        v_wind_array = np.dstack((v_lat,v_lon,v_windspeed))[0]\n",
    "    else:\n",
    "        u_wind_array = np.append(u_wind_array,np.dstack((u_lat,u_lon,u_windspeed))[0], axis = 0)\n",
    "        v_wind_array = np.append(v_wind_array,np.dstack((v_lat,v_lon,v_windspeed))[0], axis = 0)\n",
    "# v_wind = Winds[0][1][23].data(lat1 = 29.983, lat2 = 42.5499,lon1 = -95.3, lon2 = -70.967)"
   ]
  },
  {
   "cell_type": "code",
   "execution_count": 186,
   "metadata": {
    "collapsed": false
   },
   "outputs": [
    {
     "name": "stdout",
     "output_type": "stream",
     "text": [
      "(533325, 3)\n",
      "(533325, 3)\n"
     ]
    }
   ],
   "source": [
    "print(u_wind_array.shape)\n",
    "print(v_wind_array.shape)"
   ]
  },
  {
   "cell_type": "code",
   "execution_count": 169,
   "metadata": {
    "collapsed": true
   },
   "outputs": [],
   "source": [
    "from sklearn.neighbors import KDTree, BallTree, NearestNeighbors"
   ]
  },
  {
   "cell_type": "code",
   "execution_count": 181,
   "metadata": {
    "collapsed": false
   },
   "outputs": [],
   "source": [
    "tree = KDTree(u_wind_array[:,:2], leaf_size = 30)              \n",
    "near_idx = tree.query(Position[:,:2], k = 1, dualtree = False, return_distance = False)"
   ]
  },
  {
   "cell_type": "code",
   "execution_count": 180,
   "metadata": {
    "collapsed": false
   },
   "outputs": [
    {
     "name": "stdout",
     "output_type": "stream",
     "text": [
      "The slowest run took 4.50 times longer than the fastest. This could mean that an intermediate result is being cached.\n",
      "1000 loops, best of 3: 359 µs per loop\n"
     ]
    }
   ],
   "source": [
    "%timeit near_idx = tree.query(Position[:,:2], k = 1, dualtree = False, return_distance = False)"
   ]
  },
  {
   "cell_type": "code",
   "execution_count": 14,
   "metadata": {
    "collapsed": false
   },
   "outputs": [
    {
     "data": {
      "text/plain": [
       "(-90, -89.5)"
      ]
     },
     "execution_count": 14,
     "metadata": {},
     "output_type": "execute_result"
    },
    {
     "data": {
      "image/png": "[encoded data removed]",
      "text/plain": [
       "<matplotlib.figure.Figure at 0x7f17d90c0f98>"
      ]
     },
     "metadata": {},
     "output_type": "display_data"
    }
   ],
   "source": [
    "b = a(lat1 = 29.983, lat2 = 42.5499,lon1 = -95.3, lon2 = -70.967)\n",
    "Poslat = b[1]\n",
    "Poslon = b[2]\n",
    "plt.figure(figsize = (12,8))\n",
    "plt.plot(Poslon, Poslat, 'g.')\n",
    "plt.plot(Position[:,1], Position[:,0],'r', lw = 2.5)\n",
    "plt.ylim(30,30.5)\n",
    "plt.xlim(-90,-89.5)"
   ]
  },
  {
   "cell_type": "code",
   "execution_count": 74,
   "metadata": {
    "collapsed": false
   },
   "outputs": [],
   "source": [
    "from shapely.geometry import LineString, Polygon, Point, MultiPoint"
   ]
  },
  {
   "cell_type": "code",
   "execution_count": 69,
   "metadata": {
    "collapsed": false
   },
   "outputs": [],
   "source": [
    "line = LineString([(0, 0), (1, 1), (0, 2), (2, 2), (3, 1), (1, 0)])\n",
    "dilated = line.buffer(0.5)"
   ]
  },
  {
   "cell_type": "code",
   "execution_count": 77,
   "metadata": {
    "collapsed": false
   },
   "outputs": [
    {
     "data": {
      "text/plain": [
       "True"
      ]
     },
     "execution_count": 77,
     "metadata": {},
     "output_type": "execute_result"
    }
   ],
   "source": [
    "dilated.intersects(MultiPoint([(0, 0), (100, 10)]))"
   ]
  },
  {
   "cell_type": "code",
   "execution_count": 97,
   "metadata": {
    "collapsed": false
   },
   "outputs": [
    {
     "data": {
      "image/svg+xml": [
       "<svg xmlns=\"http://www.w3.org/2000/svg\" xmlns:xlink=\"http://www.w3.org/1999/xlink\" width=\"100.0\" height=\"100.0\" viewBox=\"29.003999999968 -96.27933333333199 14.525333333364 26.441999999963983\" preserveAspectRatio=\"xMinYMin meet\"><g transform=\"matrix(1,0,0,-1,0,-166.11666666669998)\"><polyline fill=\"none\" stroke=\"#66cc99\" stroke-width=\"0.5288399999992797\" points=\"29.9833333333,-95.3 30.0166666667,-95.2666666667 30.1666666667,-95.2333333333 30.25,-95.21666666670001 30.366666666700002,-95.1833333333 30.4666666667,-95.15 30.5666666667,-95.0833333333 30.6833333333,-95.0166666667 30.7833333333,-94.95 30.9166666667,-94.8666666667 31.0333333333,-94.8 31.1666666667,-94.71666666670001 31.2833333333,-94.6333333333 31.4,-94.55 31.5333333333,-94.46666666670001 31.65,-94.3833333333 31.7833333333,-94.28333333329999 31.9166666667,-94.2 32.05,-94.1 32.1666666667,-94.0166666667 32.4166666667,-93.8333333333 32.55,-93.75 32.6666666667,-93.65 32.8,-93.55 32.9333333333,-93.46666666670001 33.05,-93.35 33.15,-93.2333333333 33.2666666667,-93.1166666667 33.3833333333,-93.0 33.5,-92.8666666667 33.6166666667,-92.75 33.7333333333,-92.6166666667 33.8333333333,-92.5 33.95,-92.3833333333 34.05,-92.28333333329999 34.1833333333,-92.1166666667 34.4166666667,-91.8833333333 34.5333333333,-91.75 34.65,-91.6333333333 34.75,-91.5166666667 34.8666666667,-91.3833333333 34.9833333333,-91.2666666667 35.0833333333,-91.1333333333 35.2,-91.0 35.3333333333,-90.8666666667 35.4333333333,-90.7333333333 35.55,-90.6 35.6666666667,-90.4833333333 35.8666666667,-90.2333333333 35.9833333333,-90.1 36.1,-89.96666666670001 36.2166666667,-89.85 36.3166666667,-89.71666666670001 36.45,-89.5666666667 36.5666666667,-89.4333333333 36.6666666667,-89.3 36.7833333333,-89.1666666667 36.8833333333,-89.03333333329999 37.0,-88.9 37.1166666667,-88.7666666667 37.3333333333,-88.5 37.45,-88.35 37.5666666667,-88.21666666670001 37.6833333333,-88.0833333333 37.7833333333,-87.95 37.9,-87.8 38.0,-87.65 38.1,-87.5 38.2,-87.35 38.3,-87.1666666667 38.4,-87.0 38.5,-86.85 38.5833333333,-86.71666666670001 38.7,-86.55 38.8,-86.3833333333 38.8833333333,-86.2333333333 38.9833333333,-86.0666666667 39.0833333333,-85.9 39.1833333333,-85.7333333333 39.2833333333,-85.5666666667 39.3833333333,-85.4166666667 39.4833333333,-85.2666666667 39.5833333333,-85.1166666667 39.7,-84.9333333333 39.8166666667,-84.78333333329999 39.9166666667,-84.6166666667 40.1166666667,-84.3166666667 40.2,-84.1666666667 40.3166666667,-84.0166666667 40.4333333333,-83.78333333329999 40.6333333333,-83.45 40.7333333333,-83.28333333329999 40.8,-83.1166666667 40.85,-82.9 40.9166666667,-82.6666666667 40.9666666667,-82.46666666670001 41.0166666667,-82.25 41.0666666667,-82.03333333329999 41.1166666667,-81.8333333333 41.1666666667,-81.6166666667 41.2166666667,-81.4166666667 41.2666666667,-81.2 41.3666666667,-80.7666666667 41.4166666667,-80.55 41.4666666667,-80.35 41.5166666667,-80.15 41.5666666667,-79.9166666667 41.6166666667,-79.7 41.6666666667,-79.4833333333 41.7,-79.3 41.75,-79.0666666667 41.8,-78.8333333333 41.85,-78.6333333333 41.9,-78.4166666667 41.9333333333,-78.1833333333 42.0,-77.8833333333 42.1,-77.4333333333 42.1333333333,-77.2 42.1833333333,-76.9833333333 42.2333333333,-76.6833333333 42.2833333333,-76.46666666670001 42.3166666667,-76.21666666670001 42.3666666667,-76.0 42.3833333333,-75.7666666667 42.4,-75.53333333329999 42.4166666667,-75.3 42.4166666667,-75.0666666667 42.4333333333,-74.8333333333 42.45,-74.6 42.4666666667,-74.1666666667 42.4833333333,-73.95 42.4833333333,-73.71666666670001 42.5,-73.5 42.5166666667,-73.25 42.5166666667,-73.03333333329999 42.5166666667,-72.8333333333 42.5333333333,-72.6166666667 42.5333333333,-72.4166666667 42.55,-72.2 42.5333333333,-72.0 42.5166666667,-71.8166666667 42.5,-71.6333333333 42.5,-71.46666666670001 42.4833333333,-71.3333333333 42.4666666667,-71.2 42.45,-71.1 42.45,-70.9833333333 42.45,-70.8833333333 42.4333333333,-70.8166666667 42.4,-70.8333333333 42.3833333333,-70.8833333333 42.3666666667,-70.9166666667 42.3666666667,-70.96666666670001\" opacity=\"0.8\" /></g></svg>"
      ],
      "text/plain": [
       "<shapely.geometry.linestring.LineString at 0x7f6bcd5fbf98>"
      ]
     },
     "execution_count": 97,
     "metadata": {},
     "output_type": "execute_result"
    }
   ],
   "source": [
    "LineString(Position[:,:2])"
   ]
  },
  {
   "cell_type": "code",
   "execution_count": 93,
   "metadata": {
    "collapsed": false
   },
   "outputs": [
    {
     "data": {
      "text/plain": [
       "[<matplotlib.lines.Line2D at 0x7f6bcd5ad358>,\n",
       " <matplotlib.lines.Line2D at 0x7f6bcd5ad630>]"
      ]
     },
     "execution_count": 93,
     "metadata": {},
     "output_type": "execute_result"
    },
    {
     "data": {
      "image/png": "[encoded data removed]",
      "text/plain": [
       "<matplotlib.figure.Figure at 0x7f6bcd63d0f0>"
      ]
     },
     "metadata": {},
     "output_type": "display_data"
    }
   ],
   "source": [
    "plt.plot(LineString(Position[:,:2]))"
   ]
  },
  {
   "cell_type": "code",
   "execution_count": null,
   "metadata": {
    "collapsed": true
   },
   "outputs": [],
   "source": []
  },
  {
   "cell_type": "code",
   "execution_count": 20,
   "metadata": {
    "collapsed": true
   },
   "outputs": [],
   "source": [
    "from weather.gributils import *"
   ]
  },
  {
   "cell_type": "code",
   "execution_count": 21,
   "metadata": {
    "collapsed": false
   },
   "outputs": [],
   "source": [
    "path = '/media/liuyulin101/YulinLiu/WindData'\n",
    "datasrc = path + '/DATA/filtered_weather_data/namanl'"
   ]
  },
  {
   "cell_type": "code",
   "execution_count": 22,
   "metadata": {
    "collapsed": false
   },
   "outputs": [],
   "source": [
    "def ReadWind(fname):\n",
    "    grbs = pygrib.open(fname)\n",
    "    uin = grbs.select(shortName='u', typeOfLevel='isobaricInhPa')\n",
    "    vin = grbs.select(shortName='v', typeOfLevel='isobaricInhPa')\n",
    "    grbs.close()\n",
    "    return (uin, vin)\n"
   ]
  },
  {
   "cell_type": "code",
   "execution_count": 24,
   "metadata": {
    "collapsed": false
   },
   "outputs": [
    {
     "data": {
      "text/plain": [
       "5.548418998718262"
      ]
     },
     "execution_count": 24,
     "metadata": {},
     "output_type": "execute_result"
    }
   ],
   "source": [
    "st = time.time()\n",
    "path = '/media/liuyulin101/YulinLiu/WindData/DATA/filtered_weather_data/namanl/'\n",
    "i = 0\n",
    "WindDict = {}\n",
    "for filtered_wind in os.listdir(path):\n",
    "    i += 1\n",
    "    fname = path + filtered_wind\n",
    "#     if i <= 5:\n",
    "#         WindDict[filtered_wind[11:28]] = ReadWind(fname)\n",
    "#     else:\n",
    "#         break\n",
    "time.time() - st"
   ]
  },
  {
   "cell_type": "code",
   "execution_count": 228,
   "metadata": {
    "collapsed": false
   },
   "outputs": [
    {
     "name": "stdout",
     "output_type": "stream",
     "text": [
      "1\n"
     ]
    }
   ],
   "source": [
    "for k in range(1,2):\n",
    "    print(k)"
   ]
  },
  {
   "cell_type": "code",
   "execution_count": 212,
   "metadata": {
    "collapsed": false
   },
   "outputs": [],
   "source": [
    "fname = '/media/liuyulin101/YulinLiu/WindData/DATA/filtered_weather_data/namanl/namanl_218_20130923_1800_000.grb'"
   ]
  },
  {
   "cell_type": "code",
   "execution_count": 229,
   "metadata": {
    "collapsed": true
   },
   "outputs": [],
   "source": [
    "k = os.listdir('/media/liuyulin101/YulinLiu/WindData/DATA/filtered_weather_data/namanl')"
   ]
  },
  {
   "cell_type": "code",
   "execution_count": 231,
   "metadata": {
    "collapsed": false
   },
   "outputs": [
    {
     "data": {
      "text/plain": [
       "[3, 4, 5]"
      ]
     },
     "execution_count": 231,
     "metadata": {},
     "output_type": "execute_result"
    }
   ],
   "source": [
    "[1,2,3,4,5][2:]"
   ]
  },
  {
   "cell_type": "code",
   "execution_count": 224,
   "metadata": {
    "collapsed": false
   },
   "outputs": [
    {
     "name": "stdout",
     "output_type": "stream",
     "text": [
      "The slowest run took 4.78 times longer than the fastest. This could mean that an intermediate result is being cached.\n",
      "10000 loops, best of 3: 125 µs per loop\n"
     ]
    }
   ],
   "source": [
    "%timeit fname[-32:] in k"
   ]
  },
  {
   "cell_type": "code",
   "execution_count": 213,
   "metadata": {
    "collapsed": false
   },
   "outputs": [
    {
     "name": "stdout",
     "output_type": "stream",
     "text": [
      "The slowest run took 43.98 times longer than the fastest. This could mean that an intermediate result is being cached.\n",
      "1 loop, best of 3: 33.4 ms per loop\n"
     ]
    }
   ],
   "source": [
    "%timeit pygrib.open(fname)"
   ]
  },
  {
   "cell_type": "code",
   "execution_count": 87,
   "metadata": {
    "collapsed": false
   },
   "outputs": [],
   "source": [
    "for grb in grbs:\n",
    "    grb"
   ]
  },
  {
   "cell_type": "code",
   "execution_count": 105,
   "metadata": {
    "collapsed": false
   },
   "outputs": [
    {
     "ename": "ValueError",
     "evalue": "no matches found",
     "output_type": "error",
     "traceback": [
      "\u001b[1;31m---------------------------------------------------------------------------\u001b[0m",
      "\u001b[1;31mValueError\u001b[0m                                Traceback (most recent call last)",
      "\u001b[1;32m<ipython-input-105-26394712bfd4>\u001b[0m in \u001b[0;36m<module>\u001b[1;34m()\u001b[0m\n\u001b[1;32m----> 1\u001b[1;33m \u001b[0mgrbs\u001b[0m\u001b[1;33m.\u001b[0m\u001b[0mselect\u001b[0m\u001b[1;33m(\u001b[0m\u001b[0mmaximum\u001b[0m \u001b[1;33m=\u001b[0m \u001b[1;36m120\u001b[0m\u001b[1;33m,\u001b[0m \u001b[0mshortName\u001b[0m\u001b[1;33m=\u001b[0m\u001b[1;34m'u'\u001b[0m\u001b[1;33m,\u001b[0m \u001b[0mtypeOfLevel\u001b[0m\u001b[1;33m=\u001b[0m\u001b[1;34m'isobaricInhPa'\u001b[0m\u001b[1;33m)\u001b[0m\u001b[1;33m\u001b[0m\u001b[0m\n\u001b[0m",
      "\u001b[1;32mpygrib.pyx\u001b[0m in \u001b[0;36mpygrib.open.select (pygrib.c:6176)\u001b[1;34m()\u001b[0m\n",
      "\u001b[1;31mValueError\u001b[0m: no matches found"
     ]
    }
   ],
   "source": [
    "grbs.select(maximum =, shortName='u', typeOfLevel='isobaricInhPa')"
   ]
  },
  {
   "cell_type": "code",
   "execution_count": 25,
   "metadata": {
    "collapsed": false
   },
   "outputs": [],
   "source": [
    "import pickle"
   ]
  },
  {
   "cell_type": "code",
   "execution_count": 31,
   "metadata": {
    "collapsed": false
   },
   "outputs": [
    {
     "ename": "RuntimeError",
     "evalue": "b'Key/value not found'",
     "output_type": "error",
     "traceback": [
      "\u001b[1;31m---------------------------------------------------------------------------\u001b[0m",
      "\u001b[1;31mRuntimeError\u001b[0m                              Traceback (most recent call last)",
      "\u001b[1;32m<ipython-input-31-6dd654a3a9e9>\u001b[0m in \u001b[0;36m<module>\u001b[1;34m()\u001b[0m\n\u001b[0;32m      1\u001b[0m \u001b[0mpicklefile\u001b[0m \u001b[1;33m=\u001b[0m \u001b[0mopen\u001b[0m\u001b[1;33m(\u001b[0m\u001b[1;34m'WindDictionary.p'\u001b[0m\u001b[1;33m,\u001b[0m\u001b[1;34m'w'\u001b[0m\u001b[1;33m)\u001b[0m\u001b[1;33m\u001b[0m\u001b[0m\n\u001b[1;32m----> 2\u001b[1;33m \u001b[0mpickle\u001b[0m\u001b[1;33m.\u001b[0m\u001b[0mdump\u001b[0m\u001b[1;33m(\u001b[0m\u001b[0mWindDict\u001b[0m\u001b[1;33m,\u001b[0m \u001b[0mpicklefile\u001b[0m\u001b[1;33m)\u001b[0m\u001b[1;33m\u001b[0m\u001b[0m\n\u001b[0m\u001b[0;32m      3\u001b[0m \u001b[0mpicklefile\u001b[0m\u001b[1;33m.\u001b[0m\u001b[0mclose\u001b[0m\u001b[1;33m(\u001b[0m\u001b[1;33m)\u001b[0m\u001b[1;33m\u001b[0m\u001b[0m\n",
      "\u001b[1;32mpygrib.pyx\u001b[0m in \u001b[0;36mpygrib.gribmessage.__getattr__ (pygrib.c:9965)\u001b[1;34m()\u001b[0m\n",
      "\u001b[1;32mpygrib.pyx\u001b[0m in \u001b[0;36mpygrib.gribmessage.__getitem__ (pygrib.c:16042)\u001b[1;34m()\u001b[0m\n",
      "\u001b[1;31mRuntimeError\u001b[0m: b'Key/value not found'"
     ]
    }
   ],
   "source": [
    "picklefile = open('WindDictionary.p','w')\n",
    "pickle.dump(WindDict, picklefile)\n",
    "picklefile.close()"
   ]
  },
  {
   "cell_type": "code",
   "execution_count": 110,
   "metadata": {
    "collapsed": false
   },
   "outputs": [
    {
     "name": "stdout",
     "output_type": "stream",
     "text": [
      "The slowest run took 35.73 times longer than the fastest. This could mean that an intermediate result is being cached.\n",
      "1 loop, best of 3: 49.6 ms per loop\n"
     ]
    }
   ],
   "source": [
    "%timeit grbs = pygrib.open(path + filtered_wind)"
   ]
  },
  {
   "cell_type": "code",
   "execution_count": null,
   "metadata": {
    "collapsed": true
   },
   "outputs": [],
   "source": [
    "%timeit uin = grbs.select(shortName='u', typeOfLevel='isobaricInhPa')"
   ]
  }
 ],
 "metadata": {
  "anaconda-cloud": {},
  "kernelspec": {
   "display_name": "Python [Root]",
   "language": "python",
   "name": "Python [Root]"
  },
  "language_info": {
   "codemirror_mode": {
    "name": "ipython",
    "version": 3
   },
   "file_extension": ".py",
   "mimetype": "text/x-python",
   "name": "python",
   "nbconvert_exporter": "python",
   "pygments_lexer": "ipython3",
   "version": "3.5.2"
  }
 },
 "nbformat": 4,
 "nbformat_minor": 0
}
