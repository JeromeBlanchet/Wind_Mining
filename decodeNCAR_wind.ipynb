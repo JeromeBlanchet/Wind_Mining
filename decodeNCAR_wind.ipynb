{
 "cells": [
  {
   "cell_type": "code",
   "execution_count": 42,
   "metadata": {
    "collapsed": true
   },
   "outputs": [],
   "source": [
    "import pygrib\n",
    "import numpy as np\n",
    "import pickle\n",
    "import os\n",
    "from collections import OrderedDict"
   ]
  },
  {
   "cell_type": "code",
   "execution_count": 71,
   "metadata": {
    "collapsed": false
   },
   "outputs": [],
   "source": [
    "grbs = pygrib.open('A24560-201312.pgb.f00')\n",
    "uin = grbs.select(shortName='u', typeOfLevel='isobaricInhPa', level = lambda l: l >= 100 and l <= 1000)\n",
    "vin = grbs.select(shortName='v', typeOfLevel='isobaricInhPa', level = lambda l: l >= 100 and l <= 1000)\n",
    "grbs.close()\n",
    "\n",
    "Time = []\n",
    "for i in range(len(uin)):\n",
    "    u_wind_i = uin[i]\n",
    "    v_wind_i = vin[i]\n",
    "\n",
    "    lat_grid = u_wind_i.data(lat1 = 20, lat2 = 55, lon1 = 230, lon2 = 300)[1].flatten()\n",
    "    lon_grid = u_wind_i.data(lat1 = 20, lat2 = 55, lon1 = 230, lon2 = 300)[2].flatten()\n",
    "    lon_lat_grid = np.dstack((lon_grid, lat_grid))[0]\n",
    "    \n",
    "    pickle.dump(lon_lat_grid, open('LonLat_Grid.p','wb'), protocol=2)\n",
    "    \n",
    "    date_time = str(u_wind_i.year) + '_' + str(u_wind_i.month).zfill(2) + '_' + str(u_wind_i.day).zfill(2) + '_' + str(u_wind_i.hour).zfill(2) + '00'\n",
    "    if date_time not in Time:\n",
    "        if i != 0:\n",
    "            pickle.dump(wind_data, open(date_time + '.p','wb'), protocol=2)\n",
    "        wind_data = OrderedDict()\n",
    "        Time.append(date_time)\n",
    "\n",
    "        wind_data[u_wind_i.level] = np.dstack((u_wind_i.data(lat1 = 20, lat2 = 55, lon1 = 230, lon2 = 300)[0].flatten(),\n",
    "                                                 v_wind_i.data(lat1 = 20, lat2 = 55, lon1 = 230, lon2 = 300)[0].flatten()))[0]\n",
    "        \n",
    "    else:\n",
    "        wind_data[u_wind_i.level] = np.dstack((u_wind_i.data(lat1 = 20, lat2 = 55, lon1 = 230, lon2 = 300)[0].flatten(),\n",
    "                                                 v_wind_i.data(lat1 = 20, lat2 = 55, lon1 = 230, lon2 = 300)[0].flatten()))[0]\n",
    "        \n",
    "    pickle.dump(wind_data, open(date_time + '.p','wb'), protocol=2) # m/s"
   ]
  }
 ],
 "metadata": {
  "anaconda-cloud": {},
  "kernelspec": {
   "display_name": "Python [Root]",
   "language": "python",
   "name": "Python [Root]"
  },
  "language_info": {
   "codemirror_mode": {
    "name": "ipython",
    "version": 3
   },
   "file_extension": ".py",
   "mimetype": "text/x-python",
   "name": "python",
   "nbconvert_exporter": "python",
   "pygments_lexer": "ipython3",
   "version": "3.5.2"
  }
 },
 "nbformat": 4,
 "nbformat_minor": 0
}
